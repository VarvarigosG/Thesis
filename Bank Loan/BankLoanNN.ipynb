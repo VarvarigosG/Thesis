{
 "cells": [
  {
   "cell_type": "code",
   "execution_count": 1,
   "id": "greek-ultimate",
   "metadata": {},
   "outputs": [],
   "source": [
    "import pandas as pd\n",
    "import numpy as np\n",
    "from sklearn.model_selection import train_test_split\n",
    "from sklearn.metrics import accuracy_score, confusion_matrix\n",
    "from sklearn.preprocessing import MinMaxScaler\n",
    "from imblearn.over_sampling import SMOTE\n",
    "import warnings\n",
    "from collections import Counter\n",
    "import seaborn as sns #gia visualise tou confusion matrix\n",
    "import matplotlib.pyplot as plt #gia visualise tou confusion matrix\n",
    "from keras import Sequential\n",
    "from keras.layers import Dense\n",
    "import shap\n"
   ]
  },
  {
   "cell_type": "code",
   "execution_count": 8,
   "id": "streaming-implement",
   "metadata": {},
   "outputs": [
    {
     "data": {
      "text/plain": [
       "Index(['Gender', 'Married', 'Dependents', 'Education', 'Self_Employed',\n",
       "       'ApplicantIncome', 'CoapplicantIncome', 'LoanAmount',\n",
       "       'Loan_Amount_Term', 'Credit_History', 'Property_Area', 'Loan_Status'],\n",
       "      dtype='object')"
      ]
     },
     "execution_count": 8,
     "metadata": {},
     "output_type": "execute_result"
    }
   ],
   "source": [
    "df=pd.read_csv(r\"C:\\Users\\gvarv\\anaconda3\\envs\\thesis\\media\\bankloan.csv\")\n",
    "df=df.dropna()\n",
    "df.isna().any()\n",
    "df=df.drop('Loan_ID', axis=1) # Sto prwto column einai to LoanId\n",
    "df['LoanAmount']=(df['LoanAmount']*1000).astype(int)\n",
    "Counter(df['Loan_Status'])#['Y']/df['Loan_Status'].size #deixnei posa Yes kai No oxi , opote einai imbalanced\n",
    "#opote tha xrhsimopoihsoume smote gia imbalancing\n",
    "df.columns"
   ]
  },
  {
   "cell_type": "code",
   "execution_count": 9,
   "id": "unavailable-rehabilitation",
   "metadata": {},
   "outputs": [],
   "source": [
    "pre_y=df['Loan_Status'] #auto tha einai to prediction kai to leme pre gt thelei one hot encode\n",
    "pre_X=df.drop('Loan_Status', axis=1)\n",
    "dm_X=pd.get_dummies(pre_X)\n",
    "dm_y=pre_y.map(dict(Y=1, N=0)) # edw kanoume to one hot encode, oti dhladh den einai arithmos kai einai \n",
    "#categorical tote tha kanoyme one hot gia na exoyn ola paromoiio weight"
   ]
  },
  {
   "cell_type": "code",
   "execution_count": 10,
   "id": "smooth-fortune",
   "metadata": {},
   "outputs": [],
   "source": [
    "#edw kanoyme to SMOTE , pairnoyme to minority(to No's dld) to kanoyme scale\n",
    "#kai to kanoume fit gia na exoume meta osa yes osa ki no + einai kai scaled\n",
    "smote = SMOTE(sampling_strategy='minority')\n",
    "X1, y = smote.fit_sample(dm_X, dm_y)\n",
    "sc = MinMaxScaler()\n",
    "X= sc.fit_transform(X1)\n"
   ]
  },
  {
   "cell_type": "code",
   "execution_count": 11,
   "id": "public-client",
   "metadata": {},
   "outputs": [],
   "source": [
    "X_train, X_test, y_train, y_test=train_test_split(X, y, test_size=0.2, random_state=42, shuffle=42)"
   ]
  },
  {
   "cell_type": "code",
   "execution_count": 12,
   "id": "fancy-there",
   "metadata": {},
   "outputs": [
    {
     "name": "stdout",
     "output_type": "stream",
     "text": [
      "17/17 [==============================] - 0s 2ms/step - loss: 0.1959 - accuracy: 0.9209\n"
     ]
    },
    {
     "data": {
      "text/plain": [
       "[0.19591592252254486, 0.9209039807319641]"
      ]
     },
     "execution_count": 12,
     "metadata": {},
     "output_type": "execute_result"
    }
   ],
   "source": [
    "classifier = Sequential()\n",
    "classifier.add(Dense(200, activation='relu', kernel_initializer='random_normal', input_dim=X_test.shape[1] ))\n",
    "classifier.add(Dense(400, activation='relu', kernel_initializer='random_normal'))\n",
    "classifier.add(Dense(4, activation='relu', kernel_initializer='random_normal'))\n",
    "classifier.add(Dense(1, activation='sigmoid', kernel_initializer='random_normal'))\n",
    "classifier.compile(optimizer = 'adam', loss='binary_crossentropy', metrics =['accuracy'])\n",
    "classifier.fit(X_train,y_train, batch_size=20, epochs=100, verbose=0)\n",
    "eval_model=classifier.evaluate(X_train, y_train)\n",
    "eval_model"
   ]
  },
  {
   "cell_type": "code",
   "execution_count": 34,
   "id": "sustainable-foundation",
   "metadata": {},
   "outputs": [],
   "source": [
    "y_pred=classifier.predict(X_test)\n",
    "y_pred = (y_pred>0.55)\n",
    "#edw einai to limiter, dhladh px oti einai panw apo 0.58 parto san Yes, enw ta alla No"
   ]
  },
  {
   "cell_type": "code",
   "execution_count": 42,
   "id": "patient-southeast",
   "metadata": {},
   "outputs": [
    {
     "data": {
      "image/png": "[encoded data removed]",
      "text/plain": [
       "<Figure size 432x288 with 2 Axes>"
      ]
     },
     "metadata": {
      "needs_background": "light"
     },
     "output_type": "display_data"
    }
   ],
   "source": [
    "from sklearn.metrics import confusion_matrix\n",
    "cm= confusion_matrix(y_test, y_pred)\n",
    "ax= plt.subplot()\n",
    "sns.heatmap(cm, annot=True, ax=ax);\n",
    "\n",
    "ax.set_xlabel('Predicted');ax.set_ylabel('Actual');\n",
    "ax.set_title('Confusion Matrix');\n",
    "ax.xaxis.set_ticklabels(['No', 'Yes']); ax.yaxis.set_ticklabels(['No', 'Yes']);"
   ]
  },
  {
   "cell_type": "code",
   "execution_count": 40,
   "id": "outdoor-reasoning",
   "metadata": {},
   "outputs": [],
   "source": [
    "#classifier.save('BankLoanNN.h5')"
   ]
  },
  {
   "cell_type": "code",
   "execution_count": 41,
   "id": "fifteen-binding",
   "metadata": {},
   "outputs": [],
   "source": [
    "#import pickle \n",
    "#import joblib \n",
    "#filename = 'loan_model.sav'\n",
    "#pickle.dump(classifier, open(filename, 'wb'))\n",
    "\n",
    "#ousiastika auto p kanei to pickle einai na kanei store ta weights(to pretrained model)\n",
    "#wste otan to xreiastoyme na treksei gia alla data, na mhn kanei train gia kathe neo input"
   ]
  },
  {
   "cell_type": "code",
   "execution_count": null,
   "id": "genetic-request",
   "metadata": {},
   "outputs": [],
   "source": []
  },
  {
   "cell_type": "code",
   "execution_count": 69,
   "id": "sound-climate",
   "metadata": {},
   "outputs": [],
   "source": []
  },
  {
   "cell_type": "code",
   "execution_count": null,
   "id": "together-saturday",
   "metadata": {},
   "outputs": [],
   "source": []
  },
  {
   "cell_type": "code",
   "execution_count": null,
   "id": "rough-grove",
   "metadata": {},
   "outputs": [],
   "source": []
  }
 ],
 "metadata": {
  "kernelspec": {
   "display_name": "Python 3",
   "language": "python",
   "name": "python3"
  },
  "language_info": {
   "codemirror_mode": {
    "name": "ipython",
    "version": 3
   },
   "file_extension": ".py",
   "mimetype": "text/x-python",
   "name": "python",
   "nbconvert_exporter": "python",
   "pygments_lexer": "ipython3",
   "version": "3.8.5"
  }
 },
 "nbformat": 4,
 "nbformat_minor": 5
}
