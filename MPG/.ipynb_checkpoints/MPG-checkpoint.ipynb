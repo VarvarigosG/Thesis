{
 "cells": [
  {
   "cell_type": "code",
   "execution_count": 24,
   "metadata": {},
   "outputs": [],
   "source": [
    "import pandas as pd\n",
    "import numpy as np\n",
    "from sklearn import pipeline,preprocessing,metrics,model_selection,ensemble\n",
    "from sklearn_pandas import DataFrameMapper\n",
    "from sklearn.impute import SimpleImputer"
   ]
  },
  {
   "cell_type": "code",
   "execution_count": 20,
   "metadata": {},
   "outputs": [],
   "source": [
    "data=pd.read_csv(r\"C:\\Users\\gvarv\\anaconda3\\envs\\thesis\\media\\mpg_data_example.csv\")"
   ]
  },
  {
   "cell_type": "code",
   "execution_count": 21,
   "metadata": {},
   "outputs": [
    {
     "data": {
      "text/html": [
       "<div>\n",
       "<style scoped>\n",
       "    .dataframe tbody tr th:only-of-type {\n",
       "        vertical-align: middle;\n",
       "    }\n",
       "\n",
       "    .dataframe tbody tr th {\n",
       "        vertical-align: top;\n",
       "    }\n",
       "\n",
       "    .dataframe thead th {\n",
       "        text-align: right;\n",
       "    }\n",
       "</style>\n",
       "<table border=\"1\" class=\"dataframe\">\n",
       "  <thead>\n",
       "    <tr style=\"text-align: right;\">\n",
       "      <th></th>\n",
       "      <th>mpg</th>\n",
       "      <th>cylinders</th>\n",
       "      <th>displacement</th>\n",
       "      <th>horsepower</th>\n",
       "      <th>weight</th>\n",
       "      <th>acceleration</th>\n",
       "      <th>model year</th>\n",
       "      <th>origin</th>\n",
       "      <th>car name</th>\n",
       "    </tr>\n",
       "  </thead>\n",
       "  <tbody>\n",
       "    <tr>\n",
       "      <th>0</th>\n",
       "      <td>18.0</td>\n",
       "      <td>8</td>\n",
       "      <td>307.0</td>\n",
       "      <td>130.0</td>\n",
       "      <td>3504</td>\n",
       "      <td>12.0</td>\n",
       "      <td>70</td>\n",
       "      <td>1</td>\n",
       "      <td>chevrolet chevelle malibu</td>\n",
       "    </tr>\n",
       "    <tr>\n",
       "      <th>1</th>\n",
       "      <td>15.0</td>\n",
       "      <td>8</td>\n",
       "      <td>350.0</td>\n",
       "      <td>165.0</td>\n",
       "      <td>3693</td>\n",
       "      <td>11.5</td>\n",
       "      <td>70</td>\n",
       "      <td>1</td>\n",
       "      <td>buick skylark 320</td>\n",
       "    </tr>\n",
       "    <tr>\n",
       "      <th>2</th>\n",
       "      <td>18.0</td>\n",
       "      <td>8</td>\n",
       "      <td>318.0</td>\n",
       "      <td>150.0</td>\n",
       "      <td>3436</td>\n",
       "      <td>11.0</td>\n",
       "      <td>70</td>\n",
       "      <td>1</td>\n",
       "      <td>plymouth satellite</td>\n",
       "    </tr>\n",
       "    <tr>\n",
       "      <th>3</th>\n",
       "      <td>16.0</td>\n",
       "      <td>8</td>\n",
       "      <td>304.0</td>\n",
       "      <td>150.0</td>\n",
       "      <td>3433</td>\n",
       "      <td>12.0</td>\n",
       "      <td>70</td>\n",
       "      <td>1</td>\n",
       "      <td>amc rebel sst</td>\n",
       "    </tr>\n",
       "    <tr>\n",
       "      <th>4</th>\n",
       "      <td>17.0</td>\n",
       "      <td>8</td>\n",
       "      <td>302.0</td>\n",
       "      <td>140.0</td>\n",
       "      <td>3449</td>\n",
       "      <td>10.5</td>\n",
       "      <td>70</td>\n",
       "      <td>1</td>\n",
       "      <td>ford torino</td>\n",
       "    </tr>\n",
       "  </tbody>\n",
       "</table>\n",
       "</div>"
      ],
      "text/plain": [
       "    mpg  cylinders  displacement  horsepower  weight  acceleration  \\\n",
       "0  18.0          8         307.0       130.0    3504          12.0   \n",
       "1  15.0          8         350.0       165.0    3693          11.5   \n",
       "2  18.0          8         318.0       150.0    3436          11.0   \n",
       "3  16.0          8         304.0       150.0    3433          12.0   \n",
       "4  17.0          8         302.0       140.0    3449          10.5   \n",
       "\n",
       "   model year  origin                   car name  \n",
       "0          70       1  chevrolet chevelle malibu  \n",
       "1          70       1          buick skylark 320  \n",
       "2          70       1         plymouth satellite  \n",
       "3          70       1              amc rebel sst  \n",
       "4          70       1                ford torino  "
      ]
     },
     "execution_count": 21,
     "metadata": {},
     "output_type": "execute_result"
    }
   ],
   "source": [
    "data.head()"
   ]
  },
  {
   "cell_type": "code",
   "execution_count": 22,
   "metadata": {},
   "outputs": [
    {
     "data": {
      "text/plain": [
       "mpg             0\n",
       "cylinders       0\n",
       "displacement    0\n",
       "horsepower      6\n",
       "weight          0\n",
       "acceleration    0\n",
       "model year      0\n",
       "origin          0\n",
       "car name        0\n",
       "dtype: int64"
      ]
     },
     "execution_count": 22,
     "metadata": {},
     "output_type": "execute_result"
    }
   ],
   "source": [
    "data.isnull().sum()"
   ]
  },
  {
   "cell_type": "code",
   "execution_count": 25,
   "metadata": {},
   "outputs": [],
   "source": [
    "mapper = DataFrameMapper([\n",
    "                        (['cylinders','displacement','weight','acceleration','model year'], preprocessing.StandardScaler()),\n",
    "                        (['horsepower'],SimpleImputer()),\n",
    "                        (['origin'], preprocessing.OneHotEncoder())\n",
    "                        ])"
   ]
  },
  {
   "cell_type": "code",
   "execution_count": 26,
   "metadata": {},
   "outputs": [],
   "source": [
    "pipeline_obj = pipeline.Pipeline([\n",
    "    ('mapper',mapper),\n",
    "    (\"model\", ensemble.RandomForestRegressor())\n",
    "])"
   ]
  },
  {
   "cell_type": "code",
   "execution_count": 27,
   "metadata": {},
   "outputs": [
    {
     "data": {
      "text/plain": [
       "Index(['mpg', 'cylinders', 'displacement', 'horsepower', 'weight',\n",
       "       'acceleration', 'model year', 'origin', 'car name'],\n",
       "      dtype='object')"
      ]
     },
     "execution_count": 27,
     "metadata": {},
     "output_type": "execute_result"
    }
   ],
   "source": [
    "data.columns"
   ]
  },
  {
   "cell_type": "code",
   "execution_count": 28,
   "metadata": {},
   "outputs": [],
   "source": [
    "X=['cylinders', 'displacement', 'horsepower', 'weight',\n",
    "       'acceleration', 'model year', 'origin']\n",
    "Y=['mpg']"
   ]
  },
  {
   "cell_type": "code",
   "execution_count": 29,
   "metadata": {},
   "outputs": [
    {
     "name": "stderr",
     "output_type": "stream",
     "text": [
      "c:\\users\\gvarv\\anaconda3\\envs\\vr1\\lib\\site-packages\\sklearn\\pipeline.py:335: DataConversionWarning: A column-vector y was passed when a 1d array was expected. Please change the shape of y to (n_samples,), for example using ravel().\n",
      "  self._final_estimator.fit(Xt, y, **fit_params_last_step)\n"
     ]
    },
    {
     "data": {
      "text/plain": [
       "Pipeline(steps=[('mapper',\n",
       "                 DataFrameMapper(drop_cols=[],\n",
       "                                 features=[(['cylinders', 'displacement',\n",
       "                                             'weight', 'acceleration',\n",
       "                                             'model year'],\n",
       "                                            StandardScaler()),\n",
       "                                           (['horsepower'], SimpleImputer()),\n",
       "                                           (['origin'], OneHotEncoder())])),\n",
       "                ('model', RandomForestRegressor())])"
      ]
     },
     "execution_count": 29,
     "metadata": {},
     "output_type": "execute_result"
    }
   ],
   "source": [
    "pipeline_obj.fit(data[X],data[Y])"
   ]
  },
  {
   "cell_type": "code",
   "execution_count": 30,
   "metadata": {},
   "outputs": [
    {
     "data": {
      "text/plain": [
       "array([17.413, 14.78 , 17.15 , 16.43 , 16.962, 14.465, 13.86 , 14.07 ,\n",
       "       13.325, 14.74 , 15.042, 14.592, 15.07 , 14.53 , 24.081, 21.541,\n",
       "       19.02 , 21.17 , 26.88 , 26.66 , 24.315, 24.537, 24.685, 25.35 ,\n",
       "       20.87 , 10.51 , 11.14 , 11.7  ,  9.96 , 27.01 , 26.336, 24.914,\n",
       "       26.175, 19.394, 16.737, 17.574, 18.709, 18.231, 13.89 , 13.725,\n",
       "       14.045, 14.31 , 12.21 , 12.91 , 12.78 , 18.319, 22.025, 18.711,\n",
       "       18.355, 23.67 , 27.25 , 29.55 , 29.09 , 31.701, 33.675, 27.325,\n",
       "       27.04 , 24.376, 25.425, 23.71 , 20.676, 22.13 , 13.365, 13.695,\n",
       "       14.685, 14.035, 16.14 , 11.69 , 12.85 , 12.38 , 13.   , 20.737,\n",
       "       14.88 , 13.94 , 13.5  , 14.13 , 19.046, 22.675, 20.926, 26.07 ,\n",
       "       22.43 , 26.745, 23.047, 27.255, 26.66 , 13.195, 14.83 , 13.44 ,\n",
       "       14.19 , 14.525, 11.97 , 13.24 , 13.13 , 14.175, 12.49 , 12.29 ,\n",
       "       13.31 , 18.457, 16.529, 18.242, 18.218, 22.147, 26.31 , 11.48 ,\n",
       "       12.22 , 12.86 , 12.23 , 18.4  , 21.81 , 21.43 , 23.28 , 21.89 ,\n",
       "       20.367, 21.327, 25.83 , 14.38 , 14.97 , 28.87 , 24.804, 21.875,\n",
       "       19.583, 15.451, 23.34 , 19.972, 12.38 , 20.317, 20.589, 19.296,\n",
       "       16.188, 31.115, 25.12 , 31.465, 24.817, 15.895, 16.201, 17.827,\n",
       "       15.33 , 13.39 , 14.03 , 13.88 , 14.13 , 27.34 , 27.513, 26.374,\n",
       "       31.897, 31.695, 27.565, 25.52 , 26.092, 24.046, 25.123, 29.848,\n",
       "       19.258, 17.691, 15.767, 16.308, 15.26 , 14.985, 15.549, 14.564,\n",
       "       17.054, 16.04 , 15.666, 17.351, 20.522, 19.639, 15.113, 28.335,\n",
       "       23.585, 19.691, 23.067, 24.062, 25.564, 23.901, 18.936, 29.153,\n",
       "       18.958, 23.384, 22.346, 21.272, 24.214, 32.311, 26.52 , 25.536,\n",
       "       24.973, 26.085, 27.455, 16.69 , 15.555, 15.93 , 14.885, 21.417,\n",
       "       20.839, 22.962, 21.483, 29.228, 25.909, 29.283, 32.426, 19.434,\n",
       "       18.292, 18.431, 18.08 , 29.64 , 31.78 , 28.165, 26.302, 20.175,\n",
       "       13.595, 20.165, 19.456, 17.102, 15.78 , 13.855, 13.846, 13.721,\n",
       "       31.678, 29.736, 33.907, 25.521, 33.005, 16.42 , 17.356, 15.649,\n",
       "       15.351, 17.863, 20.137, 19.073, 18.34 , 15.805, 15.658, 15.589,\n",
       "       15.813, 29.527, 24.775, 26.902, 24.977, 30.795, 32.209, 30.851,\n",
       "       29.644, 21.835, 23.251, 22.105, 39.989, 35.224, 34.788, 36.877,\n",
       "       35.183, 19.716, 18.809, 19.526, 19.292, 20.253, 20.6  , 24.798,\n",
       "       20.305, 19.65 , 20.553, 20.83 , 18.818, 18.838, 18.913, 18.079,\n",
       "       18.625, 17.042, 30.336, 26.388, 26.705, 29.928, 22.649, 23.415,\n",
       "       23.397, 24.442, 21.205, 17.707, 22.203, 17.025, 31.503, 30.589,\n",
       "       21.301, 21.399, 24.142, 20.367, 20.771, 17.344, 17.97 , 17.277,\n",
       "       17.836, 16.481, 16.028, 19.416, 17.696, 33.409, 34.803, 35.756,\n",
       "       27.949, 25.127, 20.728, 27.389, 22.377, 35.609, 34.437, 34.4  ,\n",
       "       36.362, 28.005, 27.701, 26.21 , 31.029, 39.339, 37.702, 33.27 ,\n",
       "       37.552, 27.864, 26.067, 25.07 , 20.065, 35.251, 30.057, 31.212,\n",
       "       35.263, 32.734, 44.258, 26.518, 41.076, 42.966, 40.635, 33.22 ,\n",
       "       30.654, 40.666, 38.306, 35.078, 32.145, 28.83 , 28.102, 33.371,\n",
       "       24.195, 32.52 , 28.827, 27.408, 26.155, 24.851, 31.669, 38.151,\n",
       "       37.924, 35.535, 34.068, 37.092, 37.295, 34.263, 34.98 , 34.956,\n",
       "       31.742, 33.516, 33.908, 33.855, 32.715, 31.931, 31.052, 27.868,\n",
       "       28.64 , 26.182, 25.006, 21.747, 24.332, 21.446, 20.334, 28.167,\n",
       "       27.65 , 32.979, 30.11 , 29.052, 27.033, 25.241, 23.901, 35.705,\n",
       "       36.345, 32.872, 37.457, 35.456, 35.944, 35.509, 33.701, 36.019,\n",
       "       33.389, 36.967, 25.646, 31.752, 26.697, 24.472, 30.368, 34.192,\n",
       "       26.266, 27.03 , 42.261, 32.682, 28.599, 29.758])"
      ]
     },
     "execution_count": 30,
     "metadata": {},
     "output_type": "execute_result"
    }
   ],
   "source": [
    "pipeline_obj.predict(data[X])"
   ]
  },
  {
   "cell_type": "code",
   "execution_count": 32,
   "metadata": {},
   "outputs": [],
   "source": [
    " import joblib"
   ]
  },
  {
   "cell_type": "code",
   "execution_count": 33,
   "metadata": {},
   "outputs": [
    {
     "data": {
      "text/plain": [
       "['RFModelforMPG.pkl']"
      ]
     },
     "execution_count": 33,
     "metadata": {},
     "output_type": "execute_result"
    }
   ],
   "source": [
    "joblib.dump(pipeline_obj,'RFModelforMPG.pkl')"
   ]
  },
  {
   "cell_type": "code",
   "execution_count": 34,
   "metadata": {},
   "outputs": [],
   "source": [
    "modelReload=joblib.load('RFModelforMPG.pkl')"
   ]
  },
  {
   "cell_type": "code",
   "execution_count": 35,
   "metadata": {},
   "outputs": [
    {
     "data": {
      "text/plain": [
       "array([17.413, 14.78 , 17.15 , 16.43 , 16.962, 14.465, 13.86 , 14.07 ,\n",
       "       13.325, 14.74 , 15.042, 14.592, 15.07 , 14.53 , 24.081, 21.541,\n",
       "       19.02 , 21.17 , 26.88 , 26.66 , 24.315, 24.537, 24.685, 25.35 ,\n",
       "       20.87 , 10.51 , 11.14 , 11.7  ,  9.96 , 27.01 , 26.336, 24.914,\n",
       "       26.175, 19.394, 16.737, 17.574, 18.709, 18.231, 13.89 , 13.725,\n",
       "       14.045, 14.31 , 12.21 , 12.91 , 12.78 , 18.319, 22.025, 18.711,\n",
       "       18.355, 23.67 , 27.25 , 29.55 , 29.09 , 31.701, 33.675, 27.325,\n",
       "       27.04 , 24.376, 25.425, 23.71 , 20.676, 22.13 , 13.365, 13.695,\n",
       "       14.685, 14.035, 16.14 , 11.69 , 12.85 , 12.38 , 13.   , 20.737,\n",
       "       14.88 , 13.94 , 13.5  , 14.13 , 19.046, 22.675, 20.926, 26.07 ,\n",
       "       22.43 , 26.745, 23.047, 27.255, 26.66 , 13.195, 14.83 , 13.44 ,\n",
       "       14.19 , 14.525, 11.97 , 13.24 , 13.13 , 14.175, 12.49 , 12.29 ,\n",
       "       13.31 , 18.457, 16.529, 18.242, 18.218, 22.147, 26.31 , 11.48 ,\n",
       "       12.22 , 12.86 , 12.23 , 18.4  , 21.81 , 21.43 , 23.28 , 21.89 ,\n",
       "       20.367, 21.327, 25.83 , 14.38 , 14.97 , 28.87 , 24.804, 21.875,\n",
       "       19.583, 15.451, 23.34 , 19.972, 12.38 , 20.317, 20.589, 19.296,\n",
       "       16.188, 31.115, 25.12 , 31.465, 24.817, 15.895, 16.201, 17.827,\n",
       "       15.33 , 13.39 , 14.03 , 13.88 , 14.13 , 27.34 , 27.513, 26.374,\n",
       "       31.897, 31.695, 27.565, 25.52 , 26.092, 24.046, 25.123, 29.848,\n",
       "       19.258, 17.691, 15.767, 16.308, 15.26 , 14.985, 15.549, 14.564,\n",
       "       17.054, 16.04 , 15.666, 17.351, 20.522, 19.639, 15.113, 28.335,\n",
       "       23.585, 19.691, 23.067, 24.062, 25.564, 23.901, 18.936, 29.153,\n",
       "       18.958, 23.384, 22.346, 21.272, 24.214, 32.311, 26.52 , 25.536,\n",
       "       24.973, 26.085, 27.455, 16.69 , 15.555, 15.93 , 14.885, 21.417,\n",
       "       20.839, 22.962, 21.483, 29.228, 25.909, 29.283, 32.426, 19.434,\n",
       "       18.292, 18.431, 18.08 , 29.64 , 31.78 , 28.165, 26.302, 20.175,\n",
       "       13.595, 20.165, 19.456, 17.102, 15.78 , 13.855, 13.846, 13.721,\n",
       "       31.678, 29.736, 33.907, 25.521, 33.005, 16.42 , 17.356, 15.649,\n",
       "       15.351, 17.863, 20.137, 19.073, 18.34 , 15.805, 15.658, 15.589,\n",
       "       15.813, 29.527, 24.775, 26.902, 24.977, 30.795, 32.209, 30.851,\n",
       "       29.644, 21.835, 23.251, 22.105, 39.989, 35.224, 34.788, 36.877,\n",
       "       35.183, 19.716, 18.809, 19.526, 19.292, 20.253, 20.6  , 24.798,\n",
       "       20.305, 19.65 , 20.553, 20.83 , 18.818, 18.838, 18.913, 18.079,\n",
       "       18.625, 17.042, 30.336, 26.388, 26.705, 29.928, 22.649, 23.415,\n",
       "       23.397, 24.442, 21.205, 17.707, 22.203, 17.025, 31.503, 30.589,\n",
       "       21.301, 21.399, 24.142, 20.367, 20.771, 17.344, 17.97 , 17.277,\n",
       "       17.836, 16.481, 16.028, 19.416, 17.696, 33.409, 34.803, 35.756,\n",
       "       27.949, 25.127, 20.728, 27.389, 22.377, 35.609, 34.437, 34.4  ,\n",
       "       36.362, 28.005, 27.701, 26.21 , 31.029, 39.339, 37.702, 33.27 ,\n",
       "       37.552, 27.864, 26.067, 25.07 , 20.065, 35.251, 30.057, 31.212,\n",
       "       35.263, 32.734, 44.258, 26.518, 41.076, 42.966, 40.635, 33.22 ,\n",
       "       30.654, 40.666, 38.306, 35.078, 32.145, 28.83 , 28.102, 33.371,\n",
       "       24.195, 32.52 , 28.827, 27.408, 26.155, 24.851, 31.669, 38.151,\n",
       "       37.924, 35.535, 34.068, 37.092, 37.295, 34.263, 34.98 , 34.956,\n",
       "       31.742, 33.516, 33.908, 33.855, 32.715, 31.931, 31.052, 27.868,\n",
       "       28.64 , 26.182, 25.006, 21.747, 24.332, 21.446, 20.334, 28.167,\n",
       "       27.65 , 32.979, 30.11 , 29.052, 27.033, 25.241, 23.901, 35.705,\n",
       "       36.345, 32.872, 37.457, 35.456, 35.944, 35.509, 33.701, 36.019,\n",
       "       33.389, 36.967, 25.646, 31.752, 26.697, 24.472, 30.368, 34.192,\n",
       "       26.266, 27.03 , 42.261, 32.682, 28.599, 29.758])"
      ]
     },
     "execution_count": 35,
     "metadata": {},
     "output_type": "execute_result"
    }
   ],
   "source": [
    "modelReload.predict(data[X])"
   ]
  },
  {
   "cell_type": "code",
   "execution_count": 36,
   "metadata": {},
   "outputs": [],
   "source": [
    "temp={}\n",
    "temp['cylinders']=1\n",
    "temp['displacement']=2\n",
    "temp['horsepower']=3\n",
    "temp['weight']=4\n",
    "temp['acceleration']=5\n",
    "temp['model year']=6\n",
    "temp['origin']=1"
   ]
  },
  {
   "cell_type": "code",
   "execution_count": 37,
   "metadata": {},
   "outputs": [],
   "source": [
    "testDtaa=pd.DataFrame({'x':temp}).transpose()"
   ]
  },
  {
   "cell_type": "code",
   "execution_count": 38,
   "metadata": {},
   "outputs": [
    {
     "data": {
      "text/html": [
       "<div>\n",
       "<style scoped>\n",
       "    .dataframe tbody tr th:only-of-type {\n",
       "        vertical-align: middle;\n",
       "    }\n",
       "\n",
       "    .dataframe tbody tr th {\n",
       "        vertical-align: top;\n",
       "    }\n",
       "\n",
       "    .dataframe thead th {\n",
       "        text-align: right;\n",
       "    }\n",
       "</style>\n",
       "<table border=\"1\" class=\"dataframe\">\n",
       "  <thead>\n",
       "    <tr style=\"text-align: right;\">\n",
       "      <th></th>\n",
       "      <th>acceleration</th>\n",
       "      <th>cylinders</th>\n",
       "      <th>displacement</th>\n",
       "      <th>horsepower</th>\n",
       "      <th>model year</th>\n",
       "      <th>origin</th>\n",
       "      <th>weight</th>\n",
       "    </tr>\n",
       "  </thead>\n",
       "  <tbody>\n",
       "    <tr>\n",
       "      <th>x</th>\n",
       "      <td>5</td>\n",
       "      <td>1</td>\n",
       "      <td>2</td>\n",
       "      <td>3</td>\n",
       "      <td>6</td>\n",
       "      <td>1</td>\n",
       "      <td>4</td>\n",
       "    </tr>\n",
       "  </tbody>\n",
       "</table>\n",
       "</div>"
      ],
      "text/plain": [
       "   acceleration  cylinders  displacement  horsepower  model year  origin  \\\n",
       "x             5          1             2           3           6       1   \n",
       "\n",
       "   weight  \n",
       "x       4  "
      ]
     },
     "execution_count": 38,
     "metadata": {},
     "output_type": "execute_result"
    }
   ],
   "source": [
    "testDtaa"
   ]
  },
  {
   "cell_type": "code",
   "execution_count": 39,
   "metadata": {},
   "outputs": [
    {
     "data": {
      "text/plain": [
       "29.290999999999993"
      ]
     },
     "execution_count": 39,
     "metadata": {},
     "output_type": "execute_result"
    }
   ],
   "source": [
    "modelReload.predict(testDtaa)[0]"
   ]
  },
  {
   "cell_type": "code",
   "execution_count": null,
   "metadata": {},
   "outputs": [],
   "source": []
  }
 ],
 "metadata": {
  "kernelspec": {
   "display_name": "Python 3",
   "language": "python",
   "name": "python3"
  },
  "language_info": {
   "codemirror_mode": {
    "name": "ipython",
    "version": 3
   },
   "file_extension": ".py",
   "mimetype": "text/x-python",
   "name": "python",
   "nbconvert_exporter": "python",
   "pygments_lexer": "ipython3",
   "version": "3.8.5"
  }
 },
 "nbformat": 4,
 "nbformat_minor": 2
}
