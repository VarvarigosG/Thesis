{
 "cells": [
  {
   "cell_type": "code",
   "execution_count": 2,
   "metadata": {},
   "outputs": [],
   "source": [
    "import pandas as pd\n",
    "import numpy as np\n",
    "from sklearn import pipeline,preprocessing,metrics,model_selection,ensemble\n",
    "from sklearn_pandas import DataFrameMapper\n",
    "from sklearn.impute import SimpleImputer\n",
    "from sklearn.preprocessing import OneHotEncoder"
   ]
  },
  {
   "cell_type": "code",
   "execution_count": 3,
   "metadata": {},
   "outputs": [],
   "source": [
    "data=pd.read_csv(r\"C:\\Users\\gvarv\\anaconda3\\envs\\thesis\\media\\mpg_data_example.csv\")"
   ]
  },
  {
   "cell_type": "code",
   "execution_count": 4,
   "metadata": {},
   "outputs": [
    {
     "name": "stdout",
     "output_type": "stream",
     "text": [
      "      mpg  cylinders  displacement  horsepower  weight  acceleration  \\\n",
      "0    18.0          8         307.0       130.0    3504          12.0   \n",
      "1    15.0          8         350.0       165.0    3693          11.5   \n",
      "2    18.0          8         318.0       150.0    3436          11.0   \n",
      "3    16.0          8         304.0       150.0    3433          12.0   \n",
      "4    17.0          8         302.0       140.0    3449          10.5   \n",
      "..    ...        ...           ...         ...     ...           ...   \n",
      "393  27.0          4         140.0        86.0    2790          15.6   \n",
      "394  44.0          4          97.0        52.0    2130          24.6   \n",
      "395  32.0          4         135.0        84.0    2295          11.6   \n",
      "396  28.0          4         120.0        79.0    2625          18.6   \n",
      "397  31.0          4         119.0        82.0    2720          19.4   \n",
      "\n",
      "     model year  origin                   car name  \n",
      "0            70       1  chevrolet chevelle malibu  \n",
      "1            70       1          buick skylark 320  \n",
      "2            70       1         plymouth satellite  \n",
      "3            70       1              amc rebel sst  \n",
      "4            70       1                ford torino  \n",
      "..          ...     ...                        ...  \n",
      "393          82       1            ford mustang gl  \n",
      "394          82       2                  vw pickup  \n",
      "395          82       1              dodge rampage  \n",
      "396          82       1                ford ranger  \n",
      "397          82       1                 chevy s-10  \n",
      "\n",
      "[398 rows x 9 columns]\n"
     ]
    }
   ],
   "source": [
    "data.head()\n",
    "print(data)"
   ]
  },
  {
   "cell_type": "code",
   "execution_count": 5,
   "metadata": {},
   "outputs": [
    {
     "data": {
      "text/plain": [
       "mpg             0\n",
       "cylinders       0\n",
       "displacement    0\n",
       "horsepower      6\n",
       "weight          0\n",
       "acceleration    0\n",
       "model year      0\n",
       "origin          0\n",
       "car name        0\n",
       "dtype: int64"
      ]
     },
     "execution_count": 5,
     "metadata": {},
     "output_type": "execute_result"
    }
   ],
   "source": [
    "data.isnull().sum()\n",
    "#koitame poio exei missing values"
   ]
  },
  {
   "cell_type": "code",
   "execution_count": 6,
   "metadata": {},
   "outputs": [],
   "source": [
    "OHE_model = OneHotEncoder(handle_unknown = 'ignore')"
   ]
  },
  {
   "cell_type": "code",
   "execution_count": null,
   "metadata": {},
   "outputs": [],
   "source": []
  },
  {
   "cell_type": "code",
   "execution_count": null,
   "metadata": {},
   "outputs": [],
   "source": []
  },
  {
   "cell_type": "code",
   "execution_count": 44,
   "metadata": {},
   "outputs": [
    {
     "name": "stdout",
     "output_type": "stream",
     "text": [
      "      mpg  cylinders  displacement  horsepower  weight  acceleration  \\\n",
      "0    18.0          8         307.0       130.0    3504          12.0   \n",
      "1    15.0          8         350.0       165.0    3693          11.5   \n",
      "2    18.0          8         318.0       150.0    3436          11.0   \n",
      "3    16.0          8         304.0       150.0    3433          12.0   \n",
      "4    17.0          8         302.0       140.0    3449          10.5   \n",
      "..    ...        ...           ...         ...     ...           ...   \n",
      "393  27.0          4         140.0        86.0    2790          15.6   \n",
      "394  44.0          4          97.0        52.0    2130          24.6   \n",
      "395  32.0          4         135.0        84.0    2295          11.6   \n",
      "396  28.0          4         120.0        79.0    2625          18.6   \n",
      "397  31.0          4         119.0        82.0    2720          19.4   \n",
      "\n",
      "     model year  origin                   car name  \n",
      "0            70       1  chevrolet chevelle malibu  \n",
      "1            70       1          buick skylark 320  \n",
      "2            70       1         plymouth satellite  \n",
      "3            70       1              amc rebel sst  \n",
      "4            70       1                ford torino  \n",
      "..          ...     ...                        ...  \n",
      "393          82       1            ford mustang gl  \n",
      "394          82       2                  vw pickup  \n",
      "395          82       1              dodge rampage  \n",
      "396          82       1                ford ranger  \n",
      "397          82       1                 chevy s-10  \n",
      "\n",
      "[398 rows x 9 columns]\n"
     ]
    }
   ],
   "source": [
    "mapper = DataFrameMapper([\n",
    "                        (['cylinders','displacement','weight','acceleration','model year'], preprocessing.StandardScaler()),\n",
    "                        (['horsepower'],SimpleImputer()),\n",
    "                        (['origin'],OneHotEncoder())\n",
    "                        ])\n",
    "print(data)"
   ]
  },
  {
   "cell_type": "code",
   "execution_count": 45,
   "metadata": {},
   "outputs": [],
   "source": [
    "pipeline_obj = pipeline.Pipeline([\n",
    "    ('mapper',mapper),\n",
    "    (\"model\", ensemble.RandomForestRegressor())\n",
    "])"
   ]
  },
  {
   "cell_type": "code",
   "execution_count": 46,
   "metadata": {},
   "outputs": [
    {
     "data": {
      "text/plain": [
       "Index(['mpg', 'cylinders', 'displacement', 'horsepower', 'weight',\n",
       "       'acceleration', 'model year', 'origin', 'car name'],\n",
       "      dtype='object')"
      ]
     },
     "execution_count": 46,
     "metadata": {},
     "output_type": "execute_result"
    }
   ],
   "source": [
    "data.columns"
   ]
  },
  {
   "cell_type": "code",
   "execution_count": 47,
   "metadata": {},
   "outputs": [],
   "source": [
    "X=['cylinders', 'displacement', 'horsepower', 'weight',\n",
    "       'acceleration', 'model year', 'origin']\n",
    "Y=['mpg']"
   ]
  },
  {
   "cell_type": "code",
   "execution_count": 48,
   "metadata": {},
   "outputs": [
    {
     "name": "stderr",
     "output_type": "stream",
     "text": [
      "c:\\users\\gvarv\\anaconda3\\envs\\vr1\\lib\\site-packages\\sklearn\\pipeline.py:335: DataConversionWarning: A column-vector y was passed when a 1d array was expected. Please change the shape of y to (n_samples,), for example using ravel().\n",
      "  self._final_estimator.fit(Xt, y, **fit_params_last_step)\n"
     ]
    },
    {
     "data": {
      "text/plain": [
       "Pipeline(steps=[('mapper',\n",
       "                 DataFrameMapper(drop_cols=[],\n",
       "                                 features=[(['cylinders', 'displacement',\n",
       "                                             'weight', 'acceleration',\n",
       "                                             'model year'],\n",
       "                                            StandardScaler()),\n",
       "                                           (['horsepower'], SimpleImputer()),\n",
       "                                           (['origin'], OneHotEncoder())])),\n",
       "                ('model', RandomForestRegressor())])"
      ]
     },
     "execution_count": 48,
     "metadata": {},
     "output_type": "execute_result"
    }
   ],
   "source": [
    "pipeline_obj.fit(data[X],data[Y])"
   ]
  },
  {
   "cell_type": "code",
   "execution_count": 49,
   "metadata": {},
   "outputs": [
    {
     "data": {
      "text/plain": [
       "array([17.388, 14.966, 17.182, 16.26 , 16.966, 14.56 , 13.81 , 14.095,\n",
       "       13.14 , 14.71 , 14.966, 14.37 , 15.04 , 14.606, 24.162, 21.382,\n",
       "       19.47 , 20.957, 27.   , 26.927, 24.34 , 24.192, 24.75 , 25.532,\n",
       "       20.892, 10.63 , 11.16 , 11.52 ,  9.86 , 27.05 , 26.431, 25.122,\n",
       "       26.115, 19.497, 16.766, 17.461, 18.54 , 18.186, 13.925, 13.7  ,\n",
       "       14.125, 14.22 , 12.29 , 13.02 , 12.67 , 18.339, 22.265, 18.57 ,\n",
       "       18.565, 23.565, 26.8  , 29.744, 29.205, 31.693, 33.545, 27.515,\n",
       "       27.12 , 24.489, 25.545, 23.445, 20.52 , 22.38 , 13.485, 13.67 ,\n",
       "       14.62 , 14.14 , 15.83 , 11.69 , 12.82 , 12.48 , 13.005, 20.229,\n",
       "       14.95 , 13.645, 13.55 , 14.05 , 18.88 , 22.53 , 20.634, 26.04 ,\n",
       "       22.51 , 26.405, 22.974, 27.44 , 26.78 , 13.21 , 14.85 , 13.51 ,\n",
       "       14.07 , 14.73 , 11.9  , 13.09 , 13.255, 14.145, 12.39 , 12.05 ,\n",
       "       13.22 , 18.515, 16.487, 18.39 , 18.235, 22.052, 26.762, 11.55 ,\n",
       "       12.21 , 12.8  , 12.43 , 18.64 , 21.42 , 21.445, 22.842, 22.485,\n",
       "       19.99 , 21.093, 25.78 , 14.265, 14.905, 28.881, 24.81 , 21.297,\n",
       "       19.807, 15.333, 23.377, 19.971, 12.646, 20.217, 20.583, 19.408,\n",
       "       16.04 , 31.153, 25.41 , 31.415, 24.855, 15.945, 16.07 , 17.918,\n",
       "       15.46 , 13.29 , 13.965, 13.86 , 14.185, 27.54 , 27.745, 26.244,\n",
       "       31.648, 31.66 , 27.379, 25.77 , 26.013, 24.036, 25.594, 30.12 ,\n",
       "       19.249, 17.67 , 15.656, 15.878, 15.15 , 14.929, 15.534, 14.314,\n",
       "       17.186, 16.065, 15.566, 17.581, 20.642, 19.531, 15.088, 28.34 ,\n",
       "       23.828, 19.84 , 23.096, 24.152, 25.585, 23.958, 18.953, 28.68 ,\n",
       "       18.851, 23.398, 22.415, 21.438, 24.246, 32.405, 26.726, 25.16 ,\n",
       "       25.017, 26.016, 27.215, 16.775, 15.665, 16.244, 14.795, 21.516,\n",
       "       20.714, 22.756, 21.348, 29.29 , 25.69 , 28.755, 32.43 , 19.327,\n",
       "       18.339, 18.276, 18.436, 29.39 , 32.049, 27.99 , 26.177, 20.203,\n",
       "       13.445, 19.728, 19.696, 16.939, 15.695, 13.855, 13.849, 13.777,\n",
       "       31.311, 29.41 , 33.622, 25.407, 33.261, 16.678, 17.288, 15.64 ,\n",
       "       15.184, 17.895, 20.246, 19.086, 18.305, 15.765, 15.613, 15.64 ,\n",
       "       15.713, 29.701, 24.525, 26.227, 24.839, 30.827, 31.57 , 30.783,\n",
       "       29.902, 21.848, 22.749, 22.154, 40.286, 35.513, 34.654, 36.845,\n",
       "       35.596, 19.81 , 19.038, 19.577, 19.034, 20.318, 20.544, 25.11 ,\n",
       "       20.176, 19.796, 20.447, 20.755, 18.83 , 18.849, 18.942, 17.897,\n",
       "       18.397, 17.039, 30.657, 26.053, 26.925, 29.795, 23.541, 23.286,\n",
       "       23.327, 24.69 , 21.025, 17.792, 21.936, 17.052, 31.947, 30.863,\n",
       "       21.191, 20.771, 23.849, 20.541, 20.685, 17.374, 18.046, 17.278,\n",
       "       17.847, 16.483, 16.033, 19.714, 17.655, 33.791, 34.16 , 35.36 ,\n",
       "       28.412, 25.806, 21.213, 27.984, 22.348, 35.073, 34.432, 33.352,\n",
       "       37.128, 28.009, 27.788, 26.287, 31.869, 38.568, 37.284, 33.169,\n",
       "       36.795, 27.819, 25.843, 24.953, 20.013, 34.611, 29.904, 31.453,\n",
       "       33.962, 32.604, 44.515, 26.757, 40.809, 43.423, 40.928, 33.37 ,\n",
       "       30.183, 40.527, 38.962, 35.513, 33.033, 28.871, 28.444, 33.662,\n",
       "       23.937, 32.587, 28.704, 26.874, 26.336, 24.67 , 31.275, 38.388,\n",
       "       38.103, 36.226, 34.045, 36.776, 37.074, 34.35 , 34.833, 34.493,\n",
       "       32.804, 33.672, 34.233, 33.904, 32.582, 31.426, 31.197, 28.084,\n",
       "       28.401, 26.092, 25.027, 21.551, 24.531, 21.326, 19.871, 28.319,\n",
       "       27.653, 32.981, 30.315, 29.297, 27.053, 24.7  , 23.826, 35.882,\n",
       "       36.261, 32.816, 37.444, 35.534, 36.093, 35.539, 33.745, 36.191,\n",
       "       33.456, 36.367, 24.947, 31.188, 26.787, 24.472, 30.258, 33.919,\n",
       "       26.058, 27.129, 42.844, 32.278, 28.359, 29.559])"
      ]
     },
     "execution_count": 49,
     "metadata": {},
     "output_type": "execute_result"
    }
   ],
   "source": [
    "pipeline_obj.predict(data[X])"
   ]
  },
  {
   "cell_type": "code",
   "execution_count": 50,
   "metadata": {},
   "outputs": [],
   "source": [
    " import joblib"
   ]
  },
  {
   "cell_type": "code",
   "execution_count": 51,
   "metadata": {},
   "outputs": [
    {
     "data": {
      "text/plain": [
       "['RFModelforMPG.pkl']"
      ]
     },
     "execution_count": 51,
     "metadata": {},
     "output_type": "execute_result"
    }
   ],
   "source": [
    "joblib.dump(pipeline_obj,'RFModelforMPG.pkl')"
   ]
  },
  {
   "cell_type": "code",
   "execution_count": 52,
   "metadata": {},
   "outputs": [],
   "source": [
    "modelReload=joblib.load('RFModelforMPG.pkl')"
   ]
  },
  {
   "cell_type": "code",
   "execution_count": 53,
   "metadata": {},
   "outputs": [
    {
     "data": {
      "text/plain": [
       "array([17.388, 14.966, 17.182, 16.26 , 16.966, 14.56 , 13.81 , 14.095,\n",
       "       13.14 , 14.71 , 14.966, 14.37 , 15.04 , 14.606, 24.162, 21.382,\n",
       "       19.47 , 20.957, 27.   , 26.927, 24.34 , 24.192, 24.75 , 25.532,\n",
       "       20.892, 10.63 , 11.16 , 11.52 ,  9.86 , 27.05 , 26.431, 25.122,\n",
       "       26.115, 19.497, 16.766, 17.461, 18.54 , 18.186, 13.925, 13.7  ,\n",
       "       14.125, 14.22 , 12.29 , 13.02 , 12.67 , 18.339, 22.265, 18.57 ,\n",
       "       18.565, 23.565, 26.8  , 29.744, 29.205, 31.693, 33.545, 27.515,\n",
       "       27.12 , 24.489, 25.545, 23.445, 20.52 , 22.38 , 13.485, 13.67 ,\n",
       "       14.62 , 14.14 , 15.83 , 11.69 , 12.82 , 12.48 , 13.005, 20.229,\n",
       "       14.95 , 13.645, 13.55 , 14.05 , 18.88 , 22.53 , 20.634, 26.04 ,\n",
       "       22.51 , 26.405, 22.974, 27.44 , 26.78 , 13.21 , 14.85 , 13.51 ,\n",
       "       14.07 , 14.73 , 11.9  , 13.09 , 13.255, 14.145, 12.39 , 12.05 ,\n",
       "       13.22 , 18.515, 16.487, 18.39 , 18.235, 22.052, 26.762, 11.55 ,\n",
       "       12.21 , 12.8  , 12.43 , 18.64 , 21.42 , 21.445, 22.842, 22.485,\n",
       "       19.99 , 21.093, 25.78 , 14.265, 14.905, 28.881, 24.81 , 21.297,\n",
       "       19.807, 15.333, 23.377, 19.971, 12.646, 20.217, 20.583, 19.408,\n",
       "       16.04 , 31.153, 25.41 , 31.415, 24.855, 15.945, 16.07 , 17.918,\n",
       "       15.46 , 13.29 , 13.965, 13.86 , 14.185, 27.54 , 27.745, 26.244,\n",
       "       31.648, 31.66 , 27.379, 25.77 , 26.013, 24.036, 25.594, 30.12 ,\n",
       "       19.249, 17.67 , 15.656, 15.878, 15.15 , 14.929, 15.534, 14.314,\n",
       "       17.186, 16.065, 15.566, 17.581, 20.642, 19.531, 15.088, 28.34 ,\n",
       "       23.828, 19.84 , 23.096, 24.152, 25.585, 23.958, 18.953, 28.68 ,\n",
       "       18.851, 23.398, 22.415, 21.438, 24.246, 32.405, 26.726, 25.16 ,\n",
       "       25.017, 26.016, 27.215, 16.775, 15.665, 16.244, 14.795, 21.516,\n",
       "       20.714, 22.756, 21.348, 29.29 , 25.69 , 28.755, 32.43 , 19.327,\n",
       "       18.339, 18.276, 18.436, 29.39 , 32.049, 27.99 , 26.177, 20.203,\n",
       "       13.445, 19.728, 19.696, 16.939, 15.695, 13.855, 13.849, 13.777,\n",
       "       31.311, 29.41 , 33.622, 25.407, 33.261, 16.678, 17.288, 15.64 ,\n",
       "       15.184, 17.895, 20.246, 19.086, 18.305, 15.765, 15.613, 15.64 ,\n",
       "       15.713, 29.701, 24.525, 26.227, 24.839, 30.827, 31.57 , 30.783,\n",
       "       29.902, 21.848, 22.749, 22.154, 40.286, 35.513, 34.654, 36.845,\n",
       "       35.596, 19.81 , 19.038, 19.577, 19.034, 20.318, 20.544, 25.11 ,\n",
       "       20.176, 19.796, 20.447, 20.755, 18.83 , 18.849, 18.942, 17.897,\n",
       "       18.397, 17.039, 30.657, 26.053, 26.925, 29.795, 23.541, 23.286,\n",
       "       23.327, 24.69 , 21.025, 17.792, 21.936, 17.052, 31.947, 30.863,\n",
       "       21.191, 20.771, 23.849, 20.541, 20.685, 17.374, 18.046, 17.278,\n",
       "       17.847, 16.483, 16.033, 19.714, 17.655, 33.791, 34.16 , 35.36 ,\n",
       "       28.412, 25.806, 21.213, 27.984, 22.348, 35.073, 34.432, 33.352,\n",
       "       37.128, 28.009, 27.788, 26.287, 31.869, 38.568, 37.284, 33.169,\n",
       "       36.795, 27.819, 25.843, 24.953, 20.013, 34.611, 29.904, 31.453,\n",
       "       33.962, 32.604, 44.515, 26.757, 40.809, 43.423, 40.928, 33.37 ,\n",
       "       30.183, 40.527, 38.962, 35.513, 33.033, 28.871, 28.444, 33.662,\n",
       "       23.937, 32.587, 28.704, 26.874, 26.336, 24.67 , 31.275, 38.388,\n",
       "       38.103, 36.226, 34.045, 36.776, 37.074, 34.35 , 34.833, 34.493,\n",
       "       32.804, 33.672, 34.233, 33.904, 32.582, 31.426, 31.197, 28.084,\n",
       "       28.401, 26.092, 25.027, 21.551, 24.531, 21.326, 19.871, 28.319,\n",
       "       27.653, 32.981, 30.315, 29.297, 27.053, 24.7  , 23.826, 35.882,\n",
       "       36.261, 32.816, 37.444, 35.534, 36.093, 35.539, 33.745, 36.191,\n",
       "       33.456, 36.367, 24.947, 31.188, 26.787, 24.472, 30.258, 33.919,\n",
       "       26.058, 27.129, 42.844, 32.278, 28.359, 29.559])"
      ]
     },
     "execution_count": 53,
     "metadata": {},
     "output_type": "execute_result"
    }
   ],
   "source": [
    "modelReload.predict(data[X])"
   ]
  },
  {
   "cell_type": "code",
   "execution_count": 54,
   "metadata": {},
   "outputs": [],
   "source": [
    "temp={}\n",
    "temp['cylinders']=1\n",
    "temp['displacement']=2\n",
    "temp['horsepower']=3\n",
    "temp['weight']=4\n",
    "temp['acceleration']=5\n",
    "temp['model year']=6\n",
    "temp['origin']=1"
   ]
  },
  {
   "cell_type": "code",
   "execution_count": 55,
   "metadata": {},
   "outputs": [],
   "source": [
    "testDtaa=pd.DataFrame({'x':temp}).transpose()"
   ]
  },
  {
   "cell_type": "code",
   "execution_count": 56,
   "metadata": {},
   "outputs": [
    {
     "data": {
      "text/html": [
       "<div>\n",
       "<style scoped>\n",
       "    .dataframe tbody tr th:only-of-type {\n",
       "        vertical-align: middle;\n",
       "    }\n",
       "\n",
       "    .dataframe tbody tr th {\n",
       "        vertical-align: top;\n",
       "    }\n",
       "\n",
       "    .dataframe thead th {\n",
       "        text-align: right;\n",
       "    }\n",
       "</style>\n",
       "<table border=\"1\" class=\"dataframe\">\n",
       "  <thead>\n",
       "    <tr style=\"text-align: right;\">\n",
       "      <th></th>\n",
       "      <th>acceleration</th>\n",
       "      <th>cylinders</th>\n",
       "      <th>displacement</th>\n",
       "      <th>horsepower</th>\n",
       "      <th>model year</th>\n",
       "      <th>origin</th>\n",
       "      <th>weight</th>\n",
       "    </tr>\n",
       "  </thead>\n",
       "  <tbody>\n",
       "    <tr>\n",
       "      <th>x</th>\n",
       "      <td>5</td>\n",
       "      <td>1</td>\n",
       "      <td>2</td>\n",
       "      <td>3</td>\n",
       "      <td>6</td>\n",
       "      <td>1</td>\n",
       "      <td>4</td>\n",
       "    </tr>\n",
       "  </tbody>\n",
       "</table>\n",
       "</div>"
      ],
      "text/plain": [
       "   acceleration  cylinders  displacement  horsepower  model year  origin  \\\n",
       "x             5          1             2           3           6       1   \n",
       "\n",
       "   weight  \n",
       "x       4  "
      ]
     },
     "execution_count": 56,
     "metadata": {},
     "output_type": "execute_result"
    }
   ],
   "source": [
    "testDtaa"
   ]
  },
  {
   "cell_type": "code",
   "execution_count": 57,
   "metadata": {},
   "outputs": [
    {
     "data": {
      "text/plain": [
       "29.444999999999997"
      ]
     },
     "execution_count": 57,
     "metadata": {},
     "output_type": "execute_result"
    }
   ],
   "source": [
    "modelReload.predict(testDtaa)[0]"
   ]
  },
  {
   "cell_type": "code",
   "execution_count": null,
   "metadata": {},
   "outputs": [],
   "source": []
  }
 ],
 "metadata": {
  "kernelspec": {
   "display_name": "Python 3",
   "language": "python",
   "name": "python3"
  },
  "language_info": {
   "codemirror_mode": {
    "name": "ipython",
    "version": 3
   },
   "file_extension": ".py",
   "mimetype": "text/x-python",
   "name": "python",
   "nbconvert_exporter": "python",
   "pygments_lexer": "ipython3",
   "version": "3.8.5"
  }
 },
 "nbformat": 4,
 "nbformat_minor": 2
}
