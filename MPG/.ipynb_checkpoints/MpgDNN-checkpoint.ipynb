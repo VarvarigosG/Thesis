{
 "cells": [
  {
   "cell_type": "code",
   "execution_count": 157,
   "id": "capable-efficiency",
   "metadata": {},
   "outputs": [],
   "source": [
    "import pandas as pd\n",
    "import numpy as np\n",
    "from sklearn import pipeline,preprocessing,metrics,model_selection\n",
    "from sklearn_pandas import DataFrameMapper\n",
    "#from sklearn import ensemble\n",
    "from sklearn.impute import SimpleImputer\n",
    "from sklearn.preprocessing import OneHotEncoder\n",
    "import shap\n",
    "from sklearn.model_selection import train_test_split\n",
    "from sklearn import tree\n",
    "import sklearn\n",
    "from sklearn.ensemble import RandomForestClassifier\n",
    "from sklearn.preprocessing import Normalizer\n",
    "from tensorflow.keras.layers.experimental import preprocessing\n",
    "import keras\n",
    "import tensorflow as tf\n",
    "#https://subscription.packtpub.com/book/data/9781838552862/1/ch01lvl1sec10/train-and-test-data"
   ]
  },
  {
   "cell_type": "code",
   "execution_count": 116,
   "id": "decent-grain",
   "metadata": {},
   "outputs": [],
   "source": [
    "data=pd.read_csv(r\"C:\\Users\\gvarv\\anaconda3\\envs\\thesis\\media\\mpg_data_example.csv\")\n"
   ]
  },
  {
   "cell_type": "code",
   "execution_count": 117,
   "id": "finnish-keyboard",
   "metadata": {},
   "outputs": [
    {
     "data": {
      "text/plain": [
       "mpg             0\n",
       "cylinders       0\n",
       "displacement    0\n",
       "horsepower      6\n",
       "weight          0\n",
       "acceleration    0\n",
       "model year      0\n",
       "origin          0\n",
       "car name        0\n",
       "dtype: int64"
      ]
     },
     "execution_count": 117,
     "metadata": {},
     "output_type": "execute_result"
    }
   ],
   "source": [
    "data.isnull().sum()\n",
    "#koitame poio exei missing values\n"
   ]
  },
  {
   "cell_type": "code",
   "execution_count": 118,
   "id": "deadly-possibility",
   "metadata": {},
   "outputs": [
    {
     "data": {
      "text/plain": [
       "0    18.0\n",
       "1    15.0\n",
       "2    18.0\n",
       "3    16.0\n",
       "4    17.0\n",
       "5    15.0\n",
       "6    14.0\n",
       "7    14.0\n",
       "8    14.0\n",
       "9    15.0\n",
       "Name: mpg, dtype: float64"
      ]
     },
     "execution_count": 118,
     "metadata": {},
     "output_type": "execute_result"
    }
   ],
   "source": [
    "y = data['mpg']\n",
    "\n",
    "y.head(10)"
   ]
  },
  {
   "cell_type": "code",
   "execution_count": 119,
   "id": "previous-model",
   "metadata": {},
   "outputs": [],
   "source": [
    "imp=SimpleImputer()"
   ]
  },
  {
   "cell_type": "code",
   "execution_count": 120,
   "id": "decent-canvas",
   "metadata": {},
   "outputs": [],
   "source": [
    "data[\"horsepower\"]=imp.fit_transform(data[[\"horsepower\"]]).ravel()"
   ]
  },
  {
   "cell_type": "code",
   "execution_count": 121,
   "id": "demonstrated-laundry",
   "metadata": {},
   "outputs": [
    {
     "data": {
      "text/plain": [
       "mpg             0\n",
       "cylinders       0\n",
       "displacement    0\n",
       "horsepower      0\n",
       "weight          0\n",
       "acceleration    0\n",
       "model year      0\n",
       "origin          0\n",
       "car name        0\n",
       "dtype: int64"
      ]
     },
     "execution_count": 121,
     "metadata": {},
     "output_type": "execute_result"
    }
   ],
   "source": [
    "data.isnull().sum()\n"
   ]
  },
  {
   "cell_type": "code",
   "execution_count": 122,
   "id": "exterior-nicholas",
   "metadata": {},
   "outputs": [
    {
     "name": "stdout",
     "output_type": "stream",
     "text": [
      "      mpg  cylinders  displacement  horsepower  weight  acceleration  \\\n",
      "0    18.0          8         307.0       130.0    3504          12.0   \n",
      "1    15.0          8         350.0       165.0    3693          11.5   \n",
      "2    18.0          8         318.0       150.0    3436          11.0   \n",
      "3    16.0          8         304.0       150.0    3433          12.0   \n",
      "4    17.0          8         302.0       140.0    3449          10.5   \n",
      "..    ...        ...           ...         ...     ...           ...   \n",
      "393  27.0          4         140.0        86.0    2790          15.6   \n",
      "394  44.0          4          97.0        52.0    2130          24.6   \n",
      "395  32.0          4         135.0        84.0    2295          11.6   \n",
      "396  28.0          4         120.0        79.0    2625          18.6   \n",
      "397  31.0          4         119.0        82.0    2720          19.4   \n",
      "\n",
      "     model year  origin                   car name  \n",
      "0            70       1  chevrolet chevelle malibu  \n",
      "1            70       1          buick skylark 320  \n",
      "2            70       1         plymouth satellite  \n",
      "3            70       1              amc rebel sst  \n",
      "4            70       1                ford torino  \n",
      "..          ...     ...                        ...  \n",
      "393          82       1            ford mustang gl  \n",
      "394          82       2                  vw pickup  \n",
      "395          82       1              dodge rampage  \n",
      "396          82       1                ford ranger  \n",
      "397          82       1                 chevy s-10  \n",
      "\n",
      "[398 rows x 9 columns]\n"
     ]
    }
   ],
   "source": [
    "print(data)\n"
   ]
  },
  {
   "cell_type": "code",
   "execution_count": 123,
   "id": "rubber-memphis",
   "metadata": {},
   "outputs": [],
   "source": [
    "#ohe=pd.get_dummies(dataframe_name['column_name'])\n",
    "#enc = OneHotEncoder(handle_unknown='ignore')"
   ]
  },
  {
   "cell_type": "code",
   "execution_count": 124,
   "id": "appreciated-eleven",
   "metadata": {},
   "outputs": [
    {
     "data": {
      "text/html": [
       "<div>\n",
       "<style scoped>\n",
       "    .dataframe tbody tr th:only-of-type {\n",
       "        vertical-align: middle;\n",
       "    }\n",
       "\n",
       "    .dataframe tbody tr th {\n",
       "        vertical-align: top;\n",
       "    }\n",
       "\n",
       "    .dataframe thead th {\n",
       "        text-align: right;\n",
       "    }\n",
       "</style>\n",
       "<table border=\"1\" class=\"dataframe\">\n",
       "  <thead>\n",
       "    <tr style=\"text-align: right;\">\n",
       "      <th></th>\n",
       "      <th>mpg</th>\n",
       "      <th>cylinders</th>\n",
       "      <th>displacement</th>\n",
       "      <th>horsepower</th>\n",
       "      <th>weight</th>\n",
       "      <th>acceleration</th>\n",
       "      <th>model year</th>\n",
       "      <th>Europe</th>\n",
       "      <th>Japan</th>\n",
       "      <th>USA</th>\n",
       "      <th>...</th>\n",
       "      <th>volvo 145e (sw)</th>\n",
       "      <th>volvo 244dl</th>\n",
       "      <th>volvo 245</th>\n",
       "      <th>volvo 264gl</th>\n",
       "      <th>volvo diesel</th>\n",
       "      <th>vw dasher (diesel)</th>\n",
       "      <th>vw pickup</th>\n",
       "      <th>vw rabbit</th>\n",
       "      <th>vw rabbit c (diesel)</th>\n",
       "      <th>vw rabbit custom</th>\n",
       "    </tr>\n",
       "  </thead>\n",
       "  <tbody>\n",
       "    <tr>\n",
       "      <th>393</th>\n",
       "      <td>27.0</td>\n",
       "      <td>4</td>\n",
       "      <td>140.0</td>\n",
       "      <td>86.0</td>\n",
       "      <td>2790</td>\n",
       "      <td>15.6</td>\n",
       "      <td>82</td>\n",
       "      <td>0</td>\n",
       "      <td>0</td>\n",
       "      <td>1</td>\n",
       "      <td>...</td>\n",
       "      <td>0</td>\n",
       "      <td>0</td>\n",
       "      <td>0</td>\n",
       "      <td>0</td>\n",
       "      <td>0</td>\n",
       "      <td>0</td>\n",
       "      <td>0</td>\n",
       "      <td>0</td>\n",
       "      <td>0</td>\n",
       "      <td>0</td>\n",
       "    </tr>\n",
       "    <tr>\n",
       "      <th>394</th>\n",
       "      <td>44.0</td>\n",
       "      <td>4</td>\n",
       "      <td>97.0</td>\n",
       "      <td>52.0</td>\n",
       "      <td>2130</td>\n",
       "      <td>24.6</td>\n",
       "      <td>82</td>\n",
       "      <td>1</td>\n",
       "      <td>0</td>\n",
       "      <td>0</td>\n",
       "      <td>...</td>\n",
       "      <td>0</td>\n",
       "      <td>0</td>\n",
       "      <td>0</td>\n",
       "      <td>0</td>\n",
       "      <td>0</td>\n",
       "      <td>0</td>\n",
       "      <td>1</td>\n",
       "      <td>0</td>\n",
       "      <td>0</td>\n",
       "      <td>0</td>\n",
       "    </tr>\n",
       "    <tr>\n",
       "      <th>395</th>\n",
       "      <td>32.0</td>\n",
       "      <td>4</td>\n",
       "      <td>135.0</td>\n",
       "      <td>84.0</td>\n",
       "      <td>2295</td>\n",
       "      <td>11.6</td>\n",
       "      <td>82</td>\n",
       "      <td>0</td>\n",
       "      <td>0</td>\n",
       "      <td>1</td>\n",
       "      <td>...</td>\n",
       "      <td>0</td>\n",
       "      <td>0</td>\n",
       "      <td>0</td>\n",
       "      <td>0</td>\n",
       "      <td>0</td>\n",
       "      <td>0</td>\n",
       "      <td>0</td>\n",
       "      <td>0</td>\n",
       "      <td>0</td>\n",
       "      <td>0</td>\n",
       "    </tr>\n",
       "    <tr>\n",
       "      <th>396</th>\n",
       "      <td>28.0</td>\n",
       "      <td>4</td>\n",
       "      <td>120.0</td>\n",
       "      <td>79.0</td>\n",
       "      <td>2625</td>\n",
       "      <td>18.6</td>\n",
       "      <td>82</td>\n",
       "      <td>0</td>\n",
       "      <td>0</td>\n",
       "      <td>1</td>\n",
       "      <td>...</td>\n",
       "      <td>0</td>\n",
       "      <td>0</td>\n",
       "      <td>0</td>\n",
       "      <td>0</td>\n",
       "      <td>0</td>\n",
       "      <td>0</td>\n",
       "      <td>0</td>\n",
       "      <td>0</td>\n",
       "      <td>0</td>\n",
       "      <td>0</td>\n",
       "    </tr>\n",
       "    <tr>\n",
       "      <th>397</th>\n",
       "      <td>31.0</td>\n",
       "      <td>4</td>\n",
       "      <td>119.0</td>\n",
       "      <td>82.0</td>\n",
       "      <td>2720</td>\n",
       "      <td>19.4</td>\n",
       "      <td>82</td>\n",
       "      <td>0</td>\n",
       "      <td>0</td>\n",
       "      <td>1</td>\n",
       "      <td>...</td>\n",
       "      <td>0</td>\n",
       "      <td>0</td>\n",
       "      <td>0</td>\n",
       "      <td>0</td>\n",
       "      <td>0</td>\n",
       "      <td>0</td>\n",
       "      <td>0</td>\n",
       "      <td>0</td>\n",
       "      <td>0</td>\n",
       "      <td>0</td>\n",
       "    </tr>\n",
       "  </tbody>\n",
       "</table>\n",
       "<p>5 rows × 315 columns</p>\n",
       "</div>"
      ],
      "text/plain": [
       "      mpg  cylinders  displacement  horsepower  weight  acceleration  \\\n",
       "393  27.0          4         140.0        86.0    2790          15.6   \n",
       "394  44.0          4          97.0        52.0    2130          24.6   \n",
       "395  32.0          4         135.0        84.0    2295          11.6   \n",
       "396  28.0          4         120.0        79.0    2625          18.6   \n",
       "397  31.0          4         119.0        82.0    2720          19.4   \n",
       "\n",
       "     model year  Europe  Japan  USA  ...  volvo 145e (sw)  volvo 244dl  \\\n",
       "393          82       0      0    1  ...                0            0   \n",
       "394          82       1      0    0  ...                0            0   \n",
       "395          82       0      0    1  ...                0            0   \n",
       "396          82       0      0    1  ...                0            0   \n",
       "397          82       0      0    1  ...                0            0   \n",
       "\n",
       "     volvo 245  volvo 264gl  volvo diesel  vw dasher (diesel)  vw pickup  \\\n",
       "393          0            0             0                   0          0   \n",
       "394          0            0             0                   0          1   \n",
       "395          0            0             0                   0          0   \n",
       "396          0            0             0                   0          0   \n",
       "397          0            0             0                   0          0   \n",
       "\n",
       "     vw rabbit  vw rabbit c (diesel)  vw rabbit custom  \n",
       "393          0                     0                 0  \n",
       "394          0                     0                 0  \n",
       "395          0                     0                 0  \n",
       "396          0                     0                 0  \n",
       "397          0                     0                 0  \n",
       "\n",
       "[5 rows x 315 columns]"
      ]
     },
     "execution_count": 124,
     "metadata": {},
     "output_type": "execute_result"
    }
   ],
   "source": [
    "data['origin'] = data['origin'].map({1: 'USA', 2: 'Europe', 3: 'Japan'})\n",
    "data = pd.get_dummies(data, prefix='', prefix_sep='')\n",
    "data.tail()"
   ]
  },
  {
   "cell_type": "code",
   "execution_count": 125,
   "id": "acute-gateway",
   "metadata": {},
   "outputs": [],
   "source": [
    "#data[\"origin\"]=enc.fit_transform(data[[\"origin\"]])"
   ]
  },
  {
   "cell_type": "code",
   "execution_count": 109,
   "id": "hairy-continent",
   "metadata": {},
   "outputs": [
    {
     "name": "stdout",
     "output_type": "stream",
     "text": [
      "      mpg  cylinders  displacement  horsepower  weight  acceleration  \\\n",
      "0    18.0          8         307.0       130.0    3504          12.0   \n",
      "1    15.0          8         350.0       165.0    3693          11.5   \n",
      "2    18.0          8         318.0       150.0    3436          11.0   \n",
      "3    16.0          8         304.0       150.0    3433          12.0   \n",
      "4    17.0          8         302.0       140.0    3449          10.5   \n",
      "..    ...        ...           ...         ...     ...           ...   \n",
      "393  27.0          4         140.0        86.0    2790          15.6   \n",
      "394  44.0          4          97.0        52.0    2130          24.6   \n",
      "395  32.0          4         135.0        84.0    2295          11.6   \n",
      "396  28.0          4         120.0        79.0    2625          18.6   \n",
      "397  31.0          4         119.0        82.0    2720          19.4   \n",
      "\n",
      "     model year  origin                   car name  \n",
      "0            70     USA  chevrolet chevelle malibu  \n",
      "1            70     USA          buick skylark 320  \n",
      "2            70     USA         plymouth satellite  \n",
      "3            70     USA              amc rebel sst  \n",
      "4            70     USA                ford torino  \n",
      "..          ...     ...                        ...  \n",
      "393          82     USA            ford mustang gl  \n",
      "394          82  Europe                  vw pickup  \n",
      "395          82     USA              dodge rampage  \n",
      "396          82     USA                ford ranger  \n",
      "397          82     USA                 chevy s-10  \n",
      "\n",
      "[398 rows x 9 columns]\n"
     ]
    }
   ],
   "source": [
    "print(data)"
   ]
  },
  {
   "cell_type": "code",
   "execution_count": 129,
   "id": "final-registration",
   "metadata": {},
   "outputs": [],
   "source": [
    "train_data = data.sample(frac=0.8, random_state=0)\n",
    "test_data = data.drop(train_data.index)"
   ]
  },
  {
   "cell_type": "code",
   "execution_count": 130,
   "id": "improving-vehicle",
   "metadata": {},
   "outputs": [],
   "source": [
    "#sdc=preprocessing.StandardScaler()"
   ]
  },
  {
   "cell_type": "code",
   "execution_count": 131,
   "id": "legendary-jenny",
   "metadata": {},
   "outputs": [],
   "source": [
    "#data[['cylinders','displacement','weight','acceleration','model year']] = sdc.fit_transform(data[['cylinders','displacement','weight','acceleration','model year']])"
   ]
  },
  {
   "cell_type": "code",
   "execution_count": 132,
   "id": "productive-transformation",
   "metadata": {},
   "outputs": [],
   "source": [
    "#data[\"origin\"]=enc.fit_transform(data[[\"origin\"]])"
   ]
  },
  {
   "cell_type": "code",
   "execution_count": 134,
   "id": "decreased-medicine",
   "metadata": {},
   "outputs": [],
   "source": [
    "train_features = train_data.copy()\n",
    "test_features = test_data.copy()\n",
    "\n",
    "train_labels = train_features.pop('mpg')\n",
    "test_labels = test_features.pop('mpg')"
   ]
  },
  {
   "cell_type": "code",
   "execution_count": 135,
   "id": "tight-algorithm",
   "metadata": {},
   "outputs": [
    {
     "data": {
      "text/plain": [
       "(398, 315)"
      ]
     },
     "execution_count": 135,
     "metadata": {},
     "output_type": "execute_result"
    }
   ],
   "source": [
    "data.shape\n"
   ]
  },
  {
   "cell_type": "code",
   "execution_count": 137,
   "id": "separate-machinery",
   "metadata": {},
   "outputs": [
    {
     "data": {
      "text/html": [
       "<div>\n",
       "<style scoped>\n",
       "    .dataframe tbody tr th:only-of-type {\n",
       "        vertical-align: middle;\n",
       "    }\n",
       "\n",
       "    .dataframe tbody tr th {\n",
       "        vertical-align: top;\n",
       "    }\n",
       "\n",
       "    .dataframe thead th {\n",
       "        text-align: right;\n",
       "    }\n",
       "</style>\n",
       "<table border=\"1\" class=\"dataframe\">\n",
       "  <thead>\n",
       "    <tr style=\"text-align: right;\">\n",
       "      <th></th>\n",
       "      <th>mean</th>\n",
       "      <th>std</th>\n",
       "    </tr>\n",
       "  </thead>\n",
       "  <tbody>\n",
       "    <tr>\n",
       "      <th>mpg</th>\n",
       "      <td>23.590566</td>\n",
       "      <td>7.913617</td>\n",
       "    </tr>\n",
       "    <tr>\n",
       "      <th>cylinders</th>\n",
       "      <td>5.427673</td>\n",
       "      <td>1.682941</td>\n",
       "    </tr>\n",
       "    <tr>\n",
       "      <th>displacement</th>\n",
       "      <td>193.061321</td>\n",
       "      <td>103.812742</td>\n",
       "    </tr>\n",
       "    <tr>\n",
       "      <th>horsepower</th>\n",
       "      <td>104.073418</td>\n",
       "      <td>38.368477</td>\n",
       "    </tr>\n",
       "    <tr>\n",
       "      <th>weight</th>\n",
       "      <td>2963.823899</td>\n",
       "      <td>844.749805</td>\n",
       "    </tr>\n",
       "    <tr>\n",
       "      <th>...</th>\n",
       "      <td>...</td>\n",
       "      <td>...</td>\n",
       "    </tr>\n",
       "    <tr>\n",
       "      <th>vw dasher (diesel)</th>\n",
       "      <td>0.003145</td>\n",
       "      <td>0.056077</td>\n",
       "    </tr>\n",
       "    <tr>\n",
       "      <th>vw pickup</th>\n",
       "      <td>0.003145</td>\n",
       "      <td>0.056077</td>\n",
       "    </tr>\n",
       "    <tr>\n",
       "      <th>vw rabbit</th>\n",
       "      <td>0.003145</td>\n",
       "      <td>0.056077</td>\n",
       "    </tr>\n",
       "    <tr>\n",
       "      <th>vw rabbit c (diesel)</th>\n",
       "      <td>0.003145</td>\n",
       "      <td>0.056077</td>\n",
       "    </tr>\n",
       "    <tr>\n",
       "      <th>vw rabbit custom</th>\n",
       "      <td>0.003145</td>\n",
       "      <td>0.056077</td>\n",
       "    </tr>\n",
       "  </tbody>\n",
       "</table>\n",
       "<p>315 rows × 2 columns</p>\n",
       "</div>"
      ],
      "text/plain": [
       "                             mean         std\n",
       "mpg                     23.590566    7.913617\n",
       "cylinders                5.427673    1.682941\n",
       "displacement           193.061321  103.812742\n",
       "horsepower             104.073418   38.368477\n",
       "weight                2963.823899  844.749805\n",
       "...                           ...         ...\n",
       "vw dasher (diesel)       0.003145    0.056077\n",
       "vw pickup                0.003145    0.056077\n",
       "vw rabbit                0.003145    0.056077\n",
       "vw rabbit c (diesel)     0.003145    0.056077\n",
       "vw rabbit custom         0.003145    0.056077\n",
       "\n",
       "[315 rows x 2 columns]"
      ]
     },
     "execution_count": 137,
     "metadata": {},
     "output_type": "execute_result"
    }
   ],
   "source": [
    "train_data.describe().transpose()[['mean', 'std']]"
   ]
  },
  {
   "cell_type": "code",
   "execution_count": 148,
   "id": "sharp-transportation",
   "metadata": {},
   "outputs": [],
   "source": [
    "normalizer = preprocessing.Normalization()"
   ]
  },
  {
   "cell_type": "code",
   "execution_count": 150,
   "id": "municipal-notification",
   "metadata": {},
   "outputs": [],
   "source": [
    "normalizer.adapt(np.array(train_features))"
   ]
  },
  {
   "cell_type": "code",
   "execution_count": 151,
   "id": "artificial-daily",
   "metadata": {},
   "outputs": [
    {
     "name": "stdout",
     "output_type": "stream",
     "text": [
      "[5.4276729e+00 1.9306133e+02 1.0407342e+02 2.9638240e+03 1.5595912e+01\n",
      " 7.5946541e+01 1.6352202e-01 1.9496855e-01 6.4150941e-01 3.1446540e-03\n",
      " 0.0000000e+00 3.1446540e-03 3.1446540e-03 3.1446540e-03 3.1446540e-03\n",
      " 3.1446540e-03 1.2578616e-02 6.2893080e-03 3.1446540e-03 1.5723271e-02\n",
      " 3.1446540e-03 3.1446540e-03 0.0000000e+00 3.1446540e-03 3.1446540e-03\n",
      " 3.1446540e-03 0.0000000e+00 3.1446540e-03 3.1446540e-03 3.1446540e-03\n",
      " 3.1446540e-03 3.1446540e-03 0.0000000e+00 6.2893080e-03 3.1446540e-03\n",
      " 3.1446540e-03 3.1446540e-03 3.1446540e-03 3.1446540e-03 6.2893080e-03\n",
      " 3.1446540e-03 3.1446540e-03 3.1446540e-03 3.1446540e-03 6.2893080e-03\n",
      " 3.1446540e-03 3.1446540e-03 3.1446540e-03 3.1446540e-03 3.1446540e-03\n",
      " 3.1446540e-03 3.1446540e-03 3.1446540e-03 3.1446540e-03 3.1446540e-03\n",
      " 3.1446540e-03 0.0000000e+00 3.1446540e-03 6.2893080e-03 6.2893080e-03\n",
      " 9.4339624e-03 9.4339624e-03 3.1446540e-03 9.4339624e-03 3.1446540e-03\n",
      " 0.0000000e+00 3.1446540e-03 3.1446540e-03 0.0000000e+00 0.0000000e+00\n",
      " 3.1446540e-03 3.1446540e-03 9.4339624e-03 3.1446540e-03 3.1446540e-03\n",
      " 3.1446540e-03 3.1446540e-03 3.1446540e-03 3.1446540e-03 3.1446540e-03\n",
      " 3.1446540e-03 0.0000000e+00 0.0000000e+00 3.1446540e-03 0.0000000e+00\n",
      " 3.1446540e-03 0.0000000e+00 3.1446540e-03 6.2893080e-03 3.1446540e-03\n",
      " 0.0000000e+00 3.1446540e-03 3.1446540e-03 3.1446540e-03 3.1446540e-03\n",
      " 3.1446540e-03 3.1446540e-03 6.2893080e-03 3.1446540e-03 3.1446540e-03\n",
      " 3.1446540e-03 3.1446540e-03 3.1446540e-03 3.1446540e-03 6.2893080e-03\n",
      " 3.1446540e-03 3.1446540e-03 6.2893080e-03 3.1446540e-03 3.1446540e-03\n",
      " 3.1446540e-03 3.1446540e-03 3.1446540e-03 3.1446540e-03 3.1446540e-03\n",
      " 3.1446540e-03 3.1446540e-03 3.1446540e-03 3.1446540e-03 3.1446540e-03\n",
      " 3.1446540e-03 3.1446540e-03 0.0000000e+00 3.1446540e-03 0.0000000e+00\n",
      " 0.0000000e+00 3.1446540e-03 3.1446540e-03 3.1446540e-03 0.0000000e+00\n",
      " 3.1446540e-03 3.1446540e-03 3.1446540e-03 0.0000000e+00 3.1446540e-03\n",
      " 3.1446540e-03 0.0000000e+00 3.1446540e-03 3.1446540e-03 3.1446540e-03\n",
      " 0.0000000e+00 3.1446540e-03 0.0000000e+00 0.0000000e+00 3.1446540e-03\n",
      " 3.1446540e-03 3.1446540e-03 3.1446540e-03 3.1446540e-03 3.1446540e-03\n",
      " 9.4339624e-03 6.2893080e-03 6.2893080e-03 3.1446540e-03 3.1446540e-03\n",
      " 3.1446540e-03 3.1446540e-03 6.2893080e-03 3.1446540e-03 1.2578616e-02\n",
      " 3.1446540e-03 3.1446540e-03 3.1446540e-03 3.1446540e-03 3.1446540e-03\n",
      " 1.2578616e-02 3.1446540e-03 3.1446540e-03 0.0000000e+00 3.1446540e-03\n",
      " 3.1446540e-03 3.1446540e-03 0.0000000e+00 3.1446540e-03 3.1446540e-03\n",
      " 3.1446540e-03 9.4339624e-03 0.0000000e+00 0.0000000e+00 3.1446540e-03\n",
      " 6.2893080e-03 0.0000000e+00 3.1446540e-03 3.1446540e-03 6.2893080e-03\n",
      " 3.1446540e-03 3.1446540e-03 3.1446540e-03 3.1446540e-03 3.1446540e-03\n",
      " 0.0000000e+00 3.1446540e-03 3.1446540e-03 3.1446540e-03 3.1446540e-03\n",
      " 0.0000000e+00 3.1446540e-03 3.1446540e-03 3.1446540e-03 3.1446540e-03\n",
      " 3.1446540e-03 3.1446540e-03 3.1446540e-03 3.1446540e-03 0.0000000e+00\n",
      " 3.1446540e-03 3.1446540e-03 3.1446540e-03 3.1446540e-03 0.0000000e+00\n",
      " 6.2893080e-03 3.1446540e-03 3.1446540e-03 3.1446540e-03 3.1446540e-03\n",
      " 3.1446540e-03 3.1446540e-03 3.1446540e-03 6.2893080e-03 3.1446540e-03\n",
      " 1.2578616e-02 3.1446540e-03 0.0000000e+00 0.0000000e+00 3.1446540e-03\n",
      " 3.1446540e-03 3.1446540e-03 3.1446540e-03 0.0000000e+00 9.4339624e-03\n",
      " 0.0000000e+00 3.1446540e-03 9.4339624e-03 3.1446540e-03 3.1446540e-03\n",
      " 3.1446540e-03 3.1446540e-03 3.1446540e-03 3.1446540e-03 3.1446540e-03\n",
      " 3.1446540e-03 3.1446540e-03 3.1446540e-03 3.1446540e-03 6.2893080e-03\n",
      " 3.1446540e-03 3.1446540e-03 3.1446540e-03 3.1446540e-03 3.1446540e-03\n",
      " 9.4339624e-03 0.0000000e+00 0.0000000e+00 3.1446540e-03 3.1446540e-03\n",
      " 0.0000000e+00 3.1446540e-03 6.2893080e-03 3.1446540e-03 3.1446540e-03\n",
      " 3.1446540e-03 3.1446540e-03 3.1446540e-03 3.1446540e-03 3.1446540e-03\n",
      " 3.1446540e-03 3.1446540e-03 3.1446540e-03 3.1446540e-03 3.1446540e-03\n",
      " 6.2893080e-03 6.2893080e-03 3.1446540e-03 3.1446540e-03 3.1446540e-03\n",
      " 9.4339624e-03 0.0000000e+00 0.0000000e+00 3.1446540e-03 3.1446540e-03\n",
      " 6.2893080e-03 0.0000000e+00 3.1446540e-03 3.1446540e-03 3.1446540e-03\n",
      " 6.2893080e-03 0.0000000e+00 3.1446540e-03 0.0000000e+00 0.0000000e+00\n",
      " 3.1446540e-03 3.1446540e-03 3.1446540e-03 6.2893080e-03 0.0000000e+00\n",
      " 3.1446540e-03 3.1446540e-03 3.1446540e-03 0.0000000e+00 3.1446540e-03\n",
      " 3.1446540e-03 3.1446540e-03 3.1446540e-03 3.1446540e-03 3.1446540e-03\n",
      " 3.1446540e-03 3.1446540e-03 3.1446540e-03 0.0000000e+00 3.1446540e-03\n",
      " 3.1446540e-03 3.1446540e-03 3.1446540e-03 3.1446540e-03]\n"
     ]
    }
   ],
   "source": [
    "print(normalizer.mean.numpy())"
   ]
  },
  {
   "cell_type": "code",
   "execution_count": 152,
   "id": "domestic-spray",
   "metadata": {},
   "outputs": [
    {
     "name": "stdout",
     "output_type": "stream",
     "text": [
      "First example: [[   8.  351.  153. 4129.   13.   72.    0.    0.    1.    0.    0.    0.\n",
      "     0.    0.    0.    0.    0.    0.    0.    0.    0.    0.    0.    0.\n",
      "     0.    0.    0.    0.    0.    0.    0.    0.    0.    0.    0.    0.\n",
      "     0.    0.    0.    0.    0.    0.    0.    0.    0.    0.    0.    0.\n",
      "     0.    0.    0.    0.    0.    0.    0.    0.    0.    0.    0.    0.\n",
      "     0.    0.    0.    0.    0.    0.    0.    0.    0.    0.    0.    0.\n",
      "     0.    0.    0.    0.    0.    0.    0.    0.    0.    0.    0.    0.\n",
      "     0.    0.    0.    0.    0.    0.    0.    0.    0.    0.    0.    0.\n",
      "     0.    0.    0.    0.    0.    0.    0.    0.    0.    0.    0.    0.\n",
      "     0.    0.    0.    0.    0.    0.    0.    0.    0.    0.    0.    0.\n",
      "     0.    0.    0.    0.    0.    0.    0.    0.    0.    0.    0.    0.\n",
      "     0.    0.    0.    0.    0.    0.    0.    0.    0.    0.    0.    0.\n",
      "     0.    0.    0.    0.    0.    0.    1.    0.    0.    0.    0.    0.\n",
      "     0.    0.    0.    0.    0.    0.    0.    0.    0.    0.    0.    0.\n",
      "     0.    0.    0.    0.    0.    0.    0.    0.    0.    0.    0.    0.\n",
      "     0.    0.    0.    0.    0.    0.    0.    0.    0.    0.    0.    0.\n",
      "     0.    0.    0.    0.    0.    0.    0.    0.    0.    0.    0.    0.\n",
      "     0.    0.    0.    0.    0.    0.    0.    0.    0.    0.    0.    0.\n",
      "     0.    0.    0.    0.    0.    0.    0.    0.    0.    0.    0.    0.\n",
      "     0.    0.    0.    0.    0.    0.    0.    0.    0.    0.    0.    0.\n",
      "     0.    0.    0.    0.    0.    0.    0.    0.    0.    0.    0.    0.\n",
      "     0.    0.    0.    0.    0.    0.    0.    0.    0.    0.    0.    0.\n",
      "     0.    0.    0.    0.    0.    0.    0.    0.    0.    0.    0.    0.\n",
      "     0.    0.    0.    0.    0.    0.    0.    0.    0.    0.    0.    0.\n",
      "     0.    0.    0.    0.    0.    0.    0.    0.    0.    0.    0.    0.\n",
      "     0.    0.    0.    0.    0.    0.    0.    0.    0.    0.    0.    0.\n",
      "     0.    0.]]\n",
      "\n",
      "Normalized: [[ 1.53  1.52  1.28  1.38 -0.93 -1.07 -0.44 -0.49  0.75 -0.06  0.   -0.06\n",
      "  -0.06 -0.06 -0.06 -0.06 -0.11 -0.08 -0.06 -0.13 -0.06 -0.06  0.   -0.06\n",
      "  -0.06 -0.06  0.   -0.06 -0.06 -0.06 -0.06 -0.06  0.   -0.08 -0.06 -0.06\n",
      "  -0.06 -0.06 -0.06 -0.08 -0.06 -0.06 -0.06 -0.06 -0.08 -0.06 -0.06 -0.06\n",
      "  -0.06 -0.06 -0.06 -0.06 -0.06 -0.06 -0.06 -0.06  0.   -0.06 -0.08 -0.08\n",
      "  -0.1  -0.1  -0.06 -0.1  -0.06  0.   -0.06 -0.06  0.    0.   -0.06 -0.06\n",
      "  -0.1  -0.06 -0.06 -0.06 -0.06 -0.06 -0.06 -0.06 -0.06  0.    0.   -0.06\n",
      "   0.   -0.06  0.   -0.06 -0.08 -0.06  0.   -0.06 -0.06 -0.06 -0.06 -0.06\n",
      "  -0.06 -0.08 -0.06 -0.06 -0.06 -0.06 -0.06 -0.06 -0.08 -0.06 -0.06 -0.08\n",
      "  -0.06 -0.06 -0.06 -0.06 -0.06 -0.06 -0.06 -0.06 -0.06 -0.06 -0.06 -0.06\n",
      "  -0.06 -0.06  0.   -0.06  0.    0.   -0.06 -0.06 -0.06  0.   -0.06 -0.06\n",
      "  -0.06  0.   -0.06 -0.06  0.   -0.06 -0.06 -0.06  0.   -0.06  0.    0.\n",
      "  -0.06 -0.06 -0.06 -0.06 -0.06 -0.06 10.25 -0.08 -0.08 -0.06 -0.06 -0.06\n",
      "  -0.06 -0.08 -0.06 -0.11 -0.06 -0.06 -0.06 -0.06 -0.06 -0.11 -0.06 -0.06\n",
      "   0.   -0.06 -0.06 -0.06  0.   -0.06 -0.06 -0.06 -0.1   0.    0.   -0.06\n",
      "  -0.08  0.   -0.06 -0.06 -0.08 -0.06 -0.06 -0.06 -0.06 -0.06  0.   -0.06\n",
      "  -0.06 -0.06 -0.06  0.   -0.06 -0.06 -0.06 -0.06 -0.06 -0.06 -0.06 -0.06\n",
      "   0.   -0.06 -0.06 -0.06 -0.06  0.   -0.08 -0.06 -0.06 -0.06 -0.06 -0.06\n",
      "  -0.06 -0.06 -0.08 -0.06 -0.11 -0.06  0.    0.   -0.06 -0.06 -0.06 -0.06\n",
      "   0.   -0.1   0.   -0.06 -0.1  -0.06 -0.06 -0.06 -0.06 -0.06 -0.06 -0.06\n",
      "  -0.06 -0.06 -0.06 -0.06 -0.08 -0.06 -0.06 -0.06 -0.06 -0.06 -0.1   0.\n",
      "   0.   -0.06 -0.06  0.   -0.06 -0.08 -0.06 -0.06 -0.06 -0.06 -0.06 -0.06\n",
      "  -0.06 -0.06 -0.06 -0.06 -0.06 -0.06 -0.08 -0.08 -0.06 -0.06 -0.06 -0.1\n",
      "   0.    0.   -0.06 -0.06 -0.08  0.   -0.06 -0.06 -0.06 -0.08  0.   -0.06\n",
      "   0.    0.   -0.06 -0.06 -0.06 -0.08  0.   -0.06 -0.06 -0.06  0.   -0.06\n",
      "  -0.06 -0.06 -0.06 -0.06 -0.06 -0.06 -0.06 -0.06  0.   -0.06 -0.06 -0.06\n",
      "  -0.06 -0.06]]\n"
     ]
    }
   ],
   "source": [
    "first = np.array(train_features[:1])\n",
    "\n",
    "with np.printoptions(precision=2, suppress=True):\n",
    "  print('First example:', first)\n",
    "  print()\n",
    "  print('Normalized:', normalizer(first).numpy())"
   ]
  },
  {
   "cell_type": "code",
   "execution_count": 161,
   "id": "fabulous-shadow",
   "metadata": {},
   "outputs": [],
   "source": [
    "def build_and_compile_model(norm):\n",
    "  model = keras.Sequential([\n",
    "      norm,\n",
    "      keras.layers.Dense(64, activation='relu'),\n",
    "      keras.layers.Dense(64, activation='relu'),\n",
    "      keras.layers.Dense(1)\n",
    "  ])\n",
    "\n",
    "  model.compile(loss='mean_absolute_error',\n",
    "                optimizer=tf.keras.optimizers.Adam(0.001))\n",
    "  return model\n"
   ]
  },
  {
   "cell_type": "code",
   "execution_count": 162,
   "id": "unusual-camel",
   "metadata": {},
   "outputs": [
    {
     "name": "stdout",
     "output_type": "stream",
     "text": [
      "Model: \"sequential\"\n",
      "_________________________________________________________________\n",
      "Layer (type)                 Output Shape              Param #   \n",
      "=================================================================\n",
      "normalization (Normalization (None, 314)               629       \n",
      "_________________________________________________________________\n",
      "dense (Dense)                (None, 64)                20160     \n",
      "_________________________________________________________________\n",
      "dense_1 (Dense)              (None, 64)                4160      \n",
      "_________________________________________________________________\n",
      "dense_2 (Dense)              (None, 1)                 65        \n",
      "=================================================================\n",
      "Total params: 25,014\n",
      "Trainable params: 24,385\n",
      "Non-trainable params: 629\n",
      "_________________________________________________________________\n"
     ]
    }
   ],
   "source": [
    "dnn_model = build_and_compile_model(normalizer)\n",
    "dnn_model.summary()"
   ]
  },
  {
   "cell_type": "code",
   "execution_count": 170,
   "id": "paperback-donna",
   "metadata": {},
   "outputs": [],
   "source": [
    "history = dnn_model.fit(\n",
    "    train_features, train_labels,\n",
    "    validation_split=0.2,\n",
    "    verbose=0, epochs=100)"
   ]
  },
  {
   "cell_type": "code",
   "execution_count": null,
   "id": "sharing-reaction",
   "metadata": {},
   "outputs": [],
   "source": []
  }
 ],
 "metadata": {
  "kernelspec": {
   "display_name": "Python 3",
   "language": "python",
   "name": "python3"
  },
  "language_info": {
   "codemirror_mode": {
    "name": "ipython",
    "version": 3
   },
   "file_extension": ".py",
   "mimetype": "text/x-python",
   "name": "python",
   "nbconvert_exporter": "python",
   "pygments_lexer": "ipython3",
   "version": "3.8.5"
  }
 },
 "nbformat": 4,
 "nbformat_minor": 5
}
